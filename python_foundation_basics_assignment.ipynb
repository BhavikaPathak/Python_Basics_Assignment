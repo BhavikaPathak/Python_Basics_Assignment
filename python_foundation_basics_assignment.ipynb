{
 "cells": [
  {
   "cell_type": "markdown",
   "id": "ac53ba38-cb48-4208-b2d0-066599a7aab7",
   "metadata": {},
   "source": [
    "# ANSWER 1\n",
    "A variable name must start with a letter or the underscore character. A variable name cannot start with a number. A variable name can only contain alpha-numeric characters and underscores (A-z, 0-9, and _ ) Variable names are case-sensitive (age, Age and AGE are three different variables)"
   ]
  },
  {
   "cell_type": "markdown",
   "id": "5bbe1a96-6177-4ff7-837b-8d2fe5820255",
   "metadata": {},
   "source": [
    "# ANSWER 2\n",
    "If you attempt to declare a variable using a restricted keyword in Python, you will receive a \"SyntaxError\" indicating that you cannot use a reserved keyword as an identifier."
   ]
  },
  {
   "cell_type": "code",
   "execution_count": 1,
   "id": "b20a38e5-dd37-473d-98f6-8af001280a9a",
   "metadata": {},
   "outputs": [
    {
     "ename": "SyntaxError",
     "evalue": "invalid syntax (3420393559.py, line 3)",
     "output_type": "error",
     "traceback": [
      "\u001b[0;36m  Cell \u001b[0;32mIn [1], line 3\u001b[0;36m\u001b[0m\n\u001b[0;31m    if = 10\u001b[0m\n\u001b[0m       ^\u001b[0m\n\u001b[0;31mSyntaxError\u001b[0m\u001b[0;31m:\u001b[0m invalid syntax\n"
     ]
    }
   ],
   "source": [
    "# ANSWER 2 CONTINUE\n",
    "# EXAMPLE \n",
    "if = 10"
   ]
  },
  {
   "cell_type": "code",
   "execution_count": 3,
   "id": "e92783f3-b0f2-43bb-b12f-4f60231088a0",
   "metadata": {},
   "outputs": [
    {
     "name": "stdout",
     "output_type": "stream",
     "text": [
      "hello world\n"
     ]
    }
   ],
   "source": [
    "#                                                    ANSWER 3\n",
    "# Yes, in Python, you can use a string as a variable name, but it is generally not recommended. While Python allows you to assign a string to a variable, it is considered poor practice and can lead to confusion and less readable code.\n",
    "# FOR EXAMPLE\n",
    "variable_name = \"hello world\"\n",
    "print(variable_name)\n",
    "# In this case, variable_name is a string variable that holds the value \"Hello, World!\". However, using strings as variable names can make your code less maintainable and harder to understand. It is generally recommended to use descriptive variable names that convey the purpose or meaning of the data being stored.\n",
    "#Using meaningful variable names can improve the readability of your code and make it easier for others (including yourself) to understand and maintain it. It is best to choose variable names that are concise, descriptive, and follow the naming conventions of the Python language."
   ]
  },
  {
   "cell_type": "code",
   "execution_count": 7,
   "id": "3afdb97f-5cb8-43f3-a5de-240c085d518c",
   "metadata": {},
   "outputs": [
    {
     "name": "stdout",
     "output_type": "stream",
     "text": [
      "155\n"
     ]
    }
   ],
   "source": [
    "#                                              ANSWER 4\n",
    "# Yes,underscore (_) as a variable name. It is a valid identifier and can be used to store values just like any other variable.\n",
    "_ = 155\n",
    "print(_)"
   ]
  },
  {
   "cell_type": "code",
   "execution_count": 9,
   "id": "41d43ad1-709e-4a99-acb0-351241283ac4",
   "metadata": {},
   "outputs": [
    {
     "name": "stdout",
     "output_type": "stream",
     "text": [
      "5\n",
      "HELLO WORLD\n",
      "[1, 2, 3, 5, 9]\n"
     ]
    }
   ],
   "source": [
    "#                                         ANSWER 5\n",
    "# In Python, variables are dynamic in nature, which means that their data type and value can be changed during runtime. This flexibility allows you to assign different types of values to the same variable without explicitly declaring its type.\n",
    "# FOR EXAMPLE\n",
    "# Variable assignment\n",
    "x = 5\n",
    "print(x)  # Output: 5\n",
    "# Reassigning with a different data type\n",
    "x = \"HELLO WORLD\"\n",
    "print(x)  # Output: HELLO WORLD\n",
    "# Reassigning with a different value and data type\n",
    "x = [1, 2, 3,5,9]\n",
    "print(x)  # Output: [1, 2, 3,5,9]\n",
    "#In this example, the variable \"x\" is initially assigned an integer value \"5\". Later, it is reassigned with a string value \"HELLO WORLD\" and then reassigned again with a list [1, 2, 3,5,9]. The variable x adapts to the new values and data types without any explicit type declaration or limitation.\n",
    "#The dynamic nature of variables in Python provides flexibility and allows you to write code that can handle different data types and adapt to changing requirements. It simplifies development and makes the language more expressive. However, it's important to keep track of the values and types assigned to variables to ensure proper functionality and prevent unexpected behavior."
   ]
  },
  {
   "cell_type": "code",
   "execution_count": null,
   "id": "86e82179-c059-4ed6-adec-9ae87421faa4",
   "metadata": {},
   "outputs": [],
   "source": []
  }
 ],
 "metadata": {
  "kernelspec": {
   "display_name": "Python 3 (ipykernel)",
   "language": "python",
   "name": "python3"
  },
  "language_info": {
   "codemirror_mode": {
    "name": "ipython",
    "version": 3
   },
   "file_extension": ".py",
   "mimetype": "text/x-python",
   "name": "python",
   "nbconvert_exporter": "python",
   "pygments_lexer": "ipython3",
   "version": "3.10.6"
  }
 },
 "nbformat": 4,
 "nbformat_minor": 5
}
